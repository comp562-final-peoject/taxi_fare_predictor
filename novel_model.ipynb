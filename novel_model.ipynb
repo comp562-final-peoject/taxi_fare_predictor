{
 "cells": [
  {
   "cell_type": "markdown",
   "metadata": {},
   "source": [
    "## Given a data, first identify whether it's from/to airport and then use algorithm"
   ]
  },
  {
   "cell_type": "code",
   "execution_count": 2,
   "metadata": {},
   "outputs": [
    {
     "name": "stderr",
     "output_type": "stream",
     "text": [
      "/anaconda2/lib/python2.7/site-packages/sklearn/ensemble/weight_boosting.py:29: DeprecationWarning: numpy.core.umath_tests is an internal NumPy module and should not be imported. It will be removed in a future NumPy release.\n",
      "  from numpy.core.umath_tests import inner1d\n"
     ]
    }
   ],
   "source": [
    "import pandas as pd\n",
    "import numpy as np\n",
    "import sklearn.metrics as skl\n",
    "import matplotlib.pyplot as plt\n",
    "import seaborn as sns\n",
    "import math\n",
    "from sklearn.model_selection import train_test_split, GridSearchCV\n",
    "from sklearn.ensemble import RandomForestRegressor\n",
    "from sklearn.metrics import mean_squared_error\n",
    "from xgboost import XGBRegressor\n",
    "%matplotlib inline"
   ]
  },
  {
   "cell_type": "code",
   "execution_count": 3,
   "metadata": {},
   "outputs": [],
   "source": [
    "## Based on the above, let us create a function to see whether pickup or dropoff is an these three airports\n",
    "\n",
    "\n",
    "def isAirport(latitude,longitude):\n",
    "        JFK={'min_lng':-73.8352,\n",
    "                  'min_lat':40.6195,\n",
    "                  'max_lng':-73.7401, \n",
    "                  'max_lat':40.6659\n",
    "            }\n",
    "        \n",
    "        EWR={'min_lng':-74.1925,\n",
    "                  'min_lat':40.6700, \n",
    "                  'max_lng':-74.1531, \n",
    "                  'max_lat':40.7081\n",
    "\n",
    "            }\n",
    "        \n",
    "        LA={'min_lng':-73.8895, \n",
    "                  'min_lat':40.7664, \n",
    "                  'max_lng':-73.8550, \n",
    "                  'max_lat':40.7931\n",
    "            }\n",
    "        \n",
    "#         MANH={'min_lng':-74.0479,\n",
    "#                   'min_lat':40.6829,\n",
    "#                   'max_lng':-73.9067,\n",
    "#                   'max_lat':40.8820\n",
    "#              }\n",
    "    \n",
    "        isJFK = False;\n",
    "        isEWR = False;\n",
    "        isLA = False;\n",
    "#         isMANH = False;\n",
    "        \n",
    "        if latitude>=JFK['min_lat'] and latitude<=JFK['max_lat']:\n",
    "            if longitude>=JFK['min_lng'] and longitude<=JFK['max_lng']:\n",
    "                isJFK = True;\n",
    "\n",
    "        if latitude>=EWR['min_lat'] and latitude<=EWR['max_lat']:\n",
    "            if longitude>=EWR['min_lng'] and longitude<=EWR['max_lng']:\n",
    "                isEWR = True;\n",
    "\n",
    "        if latitude>=LA['min_lat'] and latitude<=LA['max_lat']:\n",
    "            if longitude>=LA['min_lng'] and longitude<=LA['max_lng']:\n",
    "                isLA = True;\n",
    "\n",
    "#         if latitude>=MANH['min_lat'] and latitude<=MANH['max_lat']:\n",
    "#             if longitude>=MANH['min_lng'] and longitude<=MANH['max_lng']:\n",
    "#                 isMANH = True;\n",
    "\n",
    "            \n",
    "        #isArea = isJFK or isEWR or isLA or isMANH\n",
    "        isAirport = isJFK or isEWR or isLA\n",
    "        return int(isAirport)\n",
    "        \n",
    "    \n",
    "\n",
    "\n",
    "# nyc_airports={\n",
    "#     'JFK':{'min_lng':-73.8352,\n",
    "#            'min_lat':40.6195,\n",
    "#            'max_lng':-73.7401, \n",
    "#            'max_lat':40.6659\n",
    "#           },\n",
    "              \n",
    "#     'EWR':{'min_lng':-74.1925,\n",
    "#            'min_lat':40.6700, \n",
    "#            'max_lng':-74.1531, \n",
    "#            'max_lat':40.7081\n",
    "\n",
    "#         },\n",
    "#     'LaGuardia':{'min_lng':-73.8895, \n",
    "#                  'min_lat':40.7664, \n",
    "#                  'max_lng':-73.8550, \n",
    "#                  'max_lat':40.7931\n",
    "        \n",
    "#     }\n",
    "    \n",
    "# }"
   ]
  },
  {
   "cell_type": "code",
   "execution_count": 4,
   "metadata": {},
   "outputs": [],
   "source": [
    "data = pd.read_csv(\"data/cleaned_train_with_geo_distance.csv\")"
   ]
  },
  {
   "cell_type": "code",
   "execution_count": 16,
   "metadata": {},
   "outputs": [],
   "source": [
    "airport_data = data[data['isAirport']==1]\n",
    "airport_data = airport_data.copy()\n",
    "\n",
    "airport_data.drop(['isAirport'],axis=1,inplace=True)"
   ]
  },
  {
   "cell_type": "code",
   "execution_count": 21,
   "metadata": {},
   "outputs": [],
   "source": [
    "Airport_features = ['year', 'hour', 'distance', 'passenger_count']\n",
    "X = airport_data[Airport_features].values\n",
    "\n",
    "A_X = np.concatenate( ( np.ones((X.shape[0], 1)), X ), axis = 1 )\n",
    "A_Y = airport_data['fare_amount'].values"
   ]
  },
  {
   "cell_type": "code",
   "execution_count": 39,
   "metadata": {},
   "outputs": [],
   "source": [
    "d = airport_data.copy()\n",
    "l = d.shape[0]\n",
    "train = d.iloc[:200]\n",
    "test = d.iloc[200:]"
   ]
  },
  {
   "cell_type": "code",
   "execution_count": 40,
   "metadata": {},
   "outputs": [],
   "source": [
    "X = train.loc[:, Airport_features].values\n",
    "y = train.iloc[:, 0].values\n",
    "\n",
    "X_test_dataset = test.loc[:, Airport_features].values\n",
    "\n",
    "X_train, X_test, y_train, y_test = train_test_split(X, y)"
   ]
  },
  {
   "cell_type": "code",
   "execution_count": 41,
   "metadata": {},
   "outputs": [
    {
     "name": "stdout",
     "output_type": "stream",
     "text": [
      "1.71728795044e+24\n"
     ]
    }
   ],
   "source": [
    "rand_forest_regressor = RandomForestRegressor()\n",
    "rand_forest_regressor.fit(X_train, y_train)\n",
    "\n",
    "y_rand_forest_predict = rand_forest_regressor.predict(X_test)\n",
    "random_forest_model_error = math.sqrt(mean_squared_error(np.expm1(y_test), np.expm1(y_rand_forest_predict)))\n",
    "print(random_forest_model_error)"
   ]
  },
  {
   "cell_type": "code",
   "execution_count": 42,
   "metadata": {},
   "outputs": [
    {
     "name": "stdout",
     "output_type": "stream",
     "text": [
      "1.56087141488e+24\n"
     ]
    }
   ],
   "source": [
    "XGB_model = XGBRegressor(learning_rate=0.3, max_depth=6, n_estimators=500)\n",
    "XGB_model.fit(X_train, y_train)\n",
    "y_XGB_predict = XGB_model.predict(X_test)\n",
    "\n",
    "XGB_model_error = math.sqrt(mean_squared_error(np.expm1(y_test), np.expm1(y_XGB_predict)))\n",
    "print(XGB_model_error)"
   ]
  },
  {
   "cell_type": "code",
   "execution_count": null,
   "metadata": {},
   "outputs": [],
   "source": []
  },
  {
   "cell_type": "code",
   "execution_count": null,
   "metadata": {},
   "outputs": [],
   "source": []
  }
 ],
 "metadata": {
  "kernelspec": {
   "display_name": "Python 2",
   "language": "python",
   "name": "python2"
  },
  "language_info": {
   "codemirror_mode": {
    "name": "ipython",
    "version": 2
   },
   "file_extension": ".py",
   "mimetype": "text/x-python",
   "name": "python",
   "nbconvert_exporter": "python",
   "pygments_lexer": "ipython2",
   "version": "2.7.15"
  }
 },
 "nbformat": 4,
 "nbformat_minor": 2
}
